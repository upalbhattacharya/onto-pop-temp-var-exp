from statistics import mean
import matplotlib.pyplot as plt
import matplotlib.patches as mpatches
import matplotlib.ticker as ticker
import json
import os
import numpy as np
from collections import defaultdict
from scipy.interpolate import make_interp_spline


ont = "case-uco-owl-trafficking"
depth = 8
ont_label = "CASE"
colour = "coral"
temps = [0.0, 0.2, 0.4, 0.6, 0.8, 1.0]


base_results_dir = f"/home/upal/Projects/onto-pop-temp-var-exp/code/results/gpt-4o/{ont}"


results = defaultdict(list)


for temp in temps:
    for run in os.listdir(os.path.join(base_results_dir, f"t{temp}", "runs")):
        with open(os.path.join(base_results_dir, f"t{temp}", "runs", run, "pred_metrics.json"), "r") as f:
            metrics = json.load(f)
        results[temp].append(metrics[f"map_{depth}"])
        


results


avg = {k: mean(v) for k, v in results.items()}


avg


yerrslow = {k: mean(v) - min(v) for k,v in results.items()}


yerrsup = {k: max(v) - mean(v) for k,v in results.items()}


yerrslow


yerrsup


lines = {'linestyle': 'None'}
plt.rc('lines', **lines)


fig, axs = plt.subplots(1, 1, figsize=(6, 6), layout="constrained")



